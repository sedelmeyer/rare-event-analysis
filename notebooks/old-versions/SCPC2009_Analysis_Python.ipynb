{
 "cells": [
  {
   "cell_type": "markdown",
   "metadata": {},
   "source": [
    "# SCPC2009 Analysis: Replicated with Python\n",
    "### Incomplete Draft: 2017-10-30\n",
    "---------------------------------\n",
    "## Summary\n",
    "In this notebook I present a first pass at replicating my Mobile Payment Adoption analysis (which can be found online at [the following GitHub repo](https://github.com/sedelmeyer/mobile-payment-adoption)) using popular Python data analysis libraries.\n",
    "\n",
    "Presented below is a simplified version of the original Stata analysis, but using Python.\n",
    "\n",
    "Due to the lack of a Rare Event Logit implementation in Python, I have built this initial draft analysis using the `statsmodels` Logit function.\n",
    "\n",
    "\n",
    "## Backlog\n",
    "Future iterations of this analysis will include additional classification models taken from the `sci-kit-learn` library, against which I will cross-validate models using training and testing data sets to evaluate the usefulness of each model (something which my original Mobile Payment Adoption analysis lacked).\n",
    "\n",
    "#### Next Steps:\n",
    "- Add variable descriptions via markdown tables\n",
    "- Remove uncoded columns from subsetted data set\n",
    "- Clean up data types in recoded data\n",
    "- Expand data exploration and visualization\n",
    "- Add predicted variable plots to logit analysis section\n",
    "- Add train test for 2009 data, with associated confusion matrices\n",
    "- Read and recode 2010 and 2011 survey data for additional test sets\n",
    "\n",
    "\n",
    "# Notebook Contents\n",
    "\n",
    "1. [Import Libraries](#libraries)\n",
    "\n",
    "1. [Import and Subset Data](#data)\n",
    "\n",
    "1. [Recode Variables](#recode)\n",
    "\n",
    "    - [Payment Variables](#payment)\n",
    "    - [Education Variables](#education)\n",
    "    - [Income Variables](#income)\n",
    "    - [Race Variables](#white)\n",
    "    - [Age Variables](#Age)\n",
    "   \n",
    "1. [Explore Data](#explore)\n",
    "\n",
    "1. [Logistic Regression](#logit)\n",
    "\n",
    "<a id=\"libraries\"></a>\n",
    "\n",
    "# Import Libraries"
   ]
  },
  {
   "cell_type": "code",
   "execution_count": 1,
   "metadata": {
    "collapsed": true
   },
   "outputs": [],
   "source": [
    "# Disable Jupyter warnings for cleaner notebook presentation\n",
    "import warnings\n",
    "warnings.simplefilter('ignore')"
   ]
  },
  {
   "cell_type": "code",
   "execution_count": 2,
   "metadata": {
    "collapsed": true
   },
   "outputs": [],
   "source": [
    "# Display values of multiple statements per executed code cell\n",
    "from IPython.core.interactiveshell import InteractiveShell\n",
    "InteractiveShell.ast_node_interactivity = \"all\""
   ]
  },
  {
   "cell_type": "code",
   "execution_count": 3,
   "metadata": {
    "collapsed": true
   },
   "outputs": [],
   "source": [
    "# Import required libraries\n",
    "import pandas as pd\n",
    "import numpy as np\n",
    "import seaborn as sns\n",
    "import matplotlib.pyplot as plt\n",
    "import statsmodels.api as sm\n",
    "%matplotlib inline"
   ]
  },
  {
   "cell_type": "markdown",
   "metadata": {},
   "source": [
    "<a id=\"data\"></a>\n",
    "# Import and Subset Data"
   ]
  },
  {
   "cell_type": "code",
   "execution_count": 4,
   "metadata": {},
   "outputs": [
    {
     "name": "stdout",
     "output_type": "stream",
     "text": [
      "<class 'pandas.core.frame.DataFrame'>\n",
      "RangeIndex: 2173 entries, 0 to 2172\n",
      "Columns: 1650 entries, Unnamed: 0 to rating_security\n",
      "dtypes: float64(1377), int64(255), object(18)\n",
      "memory usage: 27.4+ MB\n"
     ]
    }
   ],
   "source": [
    "SCPC = pd.read_csv('SCPC2009.csv')\n",
    "SCPC.info()"
   ]
  },
  {
   "cell_type": "markdown",
   "metadata": {},
   "source": [
    "### Subset SCPC data frame with variables of interest"
   ]
  },
  {
   "cell_type": "code",
   "execution_count": 5,
   "metadata": {},
   "outputs": [
    {
     "name": "stdout",
     "output_type": "stream",
     "text": [
      "<class 'pandas.core.frame.DataFrame'>\n",
      "RangeIndex: 2173 entries, 0 to 2172\n",
      "Data columns (total 23 columns):\n",
      "r_weight      2173 non-null float64\n",
      "pa051_a       1974 non-null float64\n",
      "pa051_b       1975 non-null float64\n",
      "pa027_a       2158 non-null float64\n",
      "pa027_b       2157 non-null float64\n",
      "pa027_c       2157 non-null float64\n",
      "pa027_d       2158 non-null float64\n",
      "pa027_e       2157 non-null float64\n",
      "pa026         1888 non-null float64\n",
      "age           2172 non-null float64\n",
      "edu_lhs       2173 non-null int64\n",
      "edu_hs        2173 non-null int64\n",
      "edu_sc        2173 non-null int64\n",
      "edu_c         2173 non-null int64\n",
      "edu_pgs       2173 non-null int64\n",
      "inc_lt25      2167 non-null float64\n",
      "inc_2549      2167 non-null float64\n",
      "inc_5074      2167 non-null float64\n",
      "inc_7599      2167 non-null float64\n",
      "inc_100124    2167 non-null float64\n",
      "inc_125199    2167 non-null float64\n",
      "inc_gt200     2167 non-null float64\n",
      "white         2173 non-null int64\n",
      "dtypes: float64(17), int64(6)\n",
      "memory usage: 390.5 KB\n"
     ]
    }
   ],
   "source": [
    "SCPC = SCPC[['r_weight','pa051_a','pa051_b','pa027_a',\n",
    "              'pa027_b','pa027_c','pa027_d','pa027_e',\n",
    "              'pa026','age','edu_lhs','edu_hs','edu_sc',\n",
    "              'edu_c','edu_pgs','inc_lt25','inc_2549',\n",
    "              'inc_5074','inc_7599','inc_100124','inc_125199',\n",
    "              'inc_gt200','white']]\n",
    "SCPC.info()"
   ]
  },
  {
   "cell_type": "code",
   "execution_count": 6,
   "metadata": {},
   "outputs": [
    {
     "data": {
      "text/html": [
       "<div>\n",
       "<style>\n",
       "    .dataframe thead tr:only-child th {\n",
       "        text-align: right;\n",
       "    }\n",
       "\n",
       "    .dataframe thead th {\n",
       "        text-align: left;\n",
       "    }\n",
       "\n",
       "    .dataframe tbody tr th {\n",
       "        vertical-align: top;\n",
       "    }\n",
       "</style>\n",
       "<table border=\"1\" class=\"dataframe\">\n",
       "  <thead>\n",
       "    <tr style=\"text-align: right;\">\n",
       "      <th></th>\n",
       "      <th>r_weight</th>\n",
       "      <th>pa051_a</th>\n",
       "      <th>pa051_b</th>\n",
       "      <th>pa027_a</th>\n",
       "      <th>pa027_b</th>\n",
       "      <th>pa027_c</th>\n",
       "      <th>pa027_d</th>\n",
       "      <th>pa027_e</th>\n",
       "      <th>pa026</th>\n",
       "      <th>age</th>\n",
       "      <th>...</th>\n",
       "      <th>edu_c</th>\n",
       "      <th>edu_pgs</th>\n",
       "      <th>inc_lt25</th>\n",
       "      <th>inc_2549</th>\n",
       "      <th>inc_5074</th>\n",
       "      <th>inc_7599</th>\n",
       "      <th>inc_100124</th>\n",
       "      <th>inc_125199</th>\n",
       "      <th>inc_gt200</th>\n",
       "      <th>white</th>\n",
       "    </tr>\n",
       "  </thead>\n",
       "  <tbody>\n",
       "    <tr>\n",
       "      <th>count</th>\n",
       "      <td>2173.000000</td>\n",
       "      <td>1974.000000</td>\n",
       "      <td>1975.000000</td>\n",
       "      <td>2158.000000</td>\n",
       "      <td>2157.000000</td>\n",
       "      <td>2157.000000</td>\n",
       "      <td>2158.000000</td>\n",
       "      <td>2157.000000</td>\n",
       "      <td>1888.000000</td>\n",
       "      <td>2172.000000</td>\n",
       "      <td>...</td>\n",
       "      <td>2173.00000</td>\n",
       "      <td>2173.000000</td>\n",
       "      <td>2167.000000</td>\n",
       "      <td>2167.000000</td>\n",
       "      <td>2167.000000</td>\n",
       "      <td>2167.000000</td>\n",
       "      <td>2167.000000</td>\n",
       "      <td>2167.000000</td>\n",
       "      <td>2167.000000</td>\n",
       "      <td>2173.000000</td>\n",
       "    </tr>\n",
       "    <tr>\n",
       "      <th>mean</th>\n",
       "      <td>45.897377</td>\n",
       "      <td>1.983283</td>\n",
       "      <td>1.991392</td>\n",
       "      <td>1.904541</td>\n",
       "      <td>1.924896</td>\n",
       "      <td>1.986555</td>\n",
       "      <td>1.899444</td>\n",
       "      <td>1.980529</td>\n",
       "      <td>1.902542</td>\n",
       "      <td>50.891805</td>\n",
       "      <td>...</td>\n",
       "      <td>0.26277</td>\n",
       "      <td>0.207547</td>\n",
       "      <td>0.135210</td>\n",
       "      <td>0.257960</td>\n",
       "      <td>0.251038</td>\n",
       "      <td>0.157360</td>\n",
       "      <td>0.072912</td>\n",
       "      <td>0.085371</td>\n",
       "      <td>0.040148</td>\n",
       "      <td>0.876208</td>\n",
       "    </tr>\n",
       "    <tr>\n",
       "      <th>std</th>\n",
       "      <td>57.027656</td>\n",
       "      <td>0.128243</td>\n",
       "      <td>0.092400</td>\n",
       "      <td>0.293916</td>\n",
       "      <td>0.263621</td>\n",
       "      <td>0.115195</td>\n",
       "      <td>0.300810</td>\n",
       "      <td>0.138207</td>\n",
       "      <td>0.296658</td>\n",
       "      <td>14.206991</td>\n",
       "      <td>...</td>\n",
       "      <td>0.44024</td>\n",
       "      <td>0.405644</td>\n",
       "      <td>0.342027</td>\n",
       "      <td>0.437613</td>\n",
       "      <td>0.433711</td>\n",
       "      <td>0.364224</td>\n",
       "      <td>0.260052</td>\n",
       "      <td>0.279498</td>\n",
       "      <td>0.196351</td>\n",
       "      <td>0.329420</td>\n",
       "    </tr>\n",
       "    <tr>\n",
       "      <th>min</th>\n",
       "      <td>10.189878</td>\n",
       "      <td>1.000000</td>\n",
       "      <td>1.000000</td>\n",
       "      <td>1.000000</td>\n",
       "      <td>1.000000</td>\n",
       "      <td>1.000000</td>\n",
       "      <td>1.000000</td>\n",
       "      <td>1.000000</td>\n",
       "      <td>1.000000</td>\n",
       "      <td>18.000000</td>\n",
       "      <td>...</td>\n",
       "      <td>0.00000</td>\n",
       "      <td>0.000000</td>\n",
       "      <td>0.000000</td>\n",
       "      <td>0.000000</td>\n",
       "      <td>0.000000</td>\n",
       "      <td>0.000000</td>\n",
       "      <td>0.000000</td>\n",
       "      <td>0.000000</td>\n",
       "      <td>0.000000</td>\n",
       "      <td>0.000000</td>\n",
       "    </tr>\n",
       "    <tr>\n",
       "      <th>25%</th>\n",
       "      <td>19.266010</td>\n",
       "      <td>2.000000</td>\n",
       "      <td>2.000000</td>\n",
       "      <td>2.000000</td>\n",
       "      <td>2.000000</td>\n",
       "      <td>2.000000</td>\n",
       "      <td>2.000000</td>\n",
       "      <td>2.000000</td>\n",
       "      <td>2.000000</td>\n",
       "      <td>41.000000</td>\n",
       "      <td>...</td>\n",
       "      <td>0.00000</td>\n",
       "      <td>0.000000</td>\n",
       "      <td>0.000000</td>\n",
       "      <td>0.000000</td>\n",
       "      <td>0.000000</td>\n",
       "      <td>0.000000</td>\n",
       "      <td>0.000000</td>\n",
       "      <td>0.000000</td>\n",
       "      <td>0.000000</td>\n",
       "      <td>1.000000</td>\n",
       "    </tr>\n",
       "    <tr>\n",
       "      <th>50%</th>\n",
       "      <td>26.607519</td>\n",
       "      <td>2.000000</td>\n",
       "      <td>2.000000</td>\n",
       "      <td>2.000000</td>\n",
       "      <td>2.000000</td>\n",
       "      <td>2.000000</td>\n",
       "      <td>2.000000</td>\n",
       "      <td>2.000000</td>\n",
       "      <td>2.000000</td>\n",
       "      <td>52.000000</td>\n",
       "      <td>...</td>\n",
       "      <td>0.00000</td>\n",
       "      <td>0.000000</td>\n",
       "      <td>0.000000</td>\n",
       "      <td>0.000000</td>\n",
       "      <td>0.000000</td>\n",
       "      <td>0.000000</td>\n",
       "      <td>0.000000</td>\n",
       "      <td>0.000000</td>\n",
       "      <td>0.000000</td>\n",
       "      <td>1.000000</td>\n",
       "    </tr>\n",
       "    <tr>\n",
       "      <th>75%</th>\n",
       "      <td>48.907169</td>\n",
       "      <td>2.000000</td>\n",
       "      <td>2.000000</td>\n",
       "      <td>2.000000</td>\n",
       "      <td>2.000000</td>\n",
       "      <td>2.000000</td>\n",
       "      <td>2.000000</td>\n",
       "      <td>2.000000</td>\n",
       "      <td>2.000000</td>\n",
       "      <td>61.000000</td>\n",
       "      <td>...</td>\n",
       "      <td>1.00000</td>\n",
       "      <td>0.000000</td>\n",
       "      <td>0.000000</td>\n",
       "      <td>1.000000</td>\n",
       "      <td>1.000000</td>\n",
       "      <td>0.000000</td>\n",
       "      <td>0.000000</td>\n",
       "      <td>0.000000</td>\n",
       "      <td>0.000000</td>\n",
       "      <td>1.000000</td>\n",
       "    </tr>\n",
       "    <tr>\n",
       "      <th>max</th>\n",
       "      <td>776.699219</td>\n",
       "      <td>2.000000</td>\n",
       "      <td>2.000000</td>\n",
       "      <td>2.000000</td>\n",
       "      <td>2.000000</td>\n",
       "      <td>2.000000</td>\n",
       "      <td>2.000000</td>\n",
       "      <td>2.000000</td>\n",
       "      <td>2.000000</td>\n",
       "      <td>90.000000</td>\n",
       "      <td>...</td>\n",
       "      <td>1.00000</td>\n",
       "      <td>1.000000</td>\n",
       "      <td>1.000000</td>\n",
       "      <td>1.000000</td>\n",
       "      <td>1.000000</td>\n",
       "      <td>1.000000</td>\n",
       "      <td>1.000000</td>\n",
       "      <td>1.000000</td>\n",
       "      <td>1.000000</td>\n",
       "      <td>1.000000</td>\n",
       "    </tr>\n",
       "  </tbody>\n",
       "</table>\n",
       "<p>8 rows × 23 columns</p>\n",
       "</div>"
      ],
      "text/plain": [
       "          r_weight      pa051_a      pa051_b      pa027_a      pa027_b  \\\n",
       "count  2173.000000  1974.000000  1975.000000  2158.000000  2157.000000   \n",
       "mean     45.897377     1.983283     1.991392     1.904541     1.924896   \n",
       "std      57.027656     0.128243     0.092400     0.293916     0.263621   \n",
       "min      10.189878     1.000000     1.000000     1.000000     1.000000   \n",
       "25%      19.266010     2.000000     2.000000     2.000000     2.000000   \n",
       "50%      26.607519     2.000000     2.000000     2.000000     2.000000   \n",
       "75%      48.907169     2.000000     2.000000     2.000000     2.000000   \n",
       "max     776.699219     2.000000     2.000000     2.000000     2.000000   \n",
       "\n",
       "           pa027_c      pa027_d      pa027_e        pa026          age  \\\n",
       "count  2157.000000  2158.000000  2157.000000  1888.000000  2172.000000   \n",
       "mean      1.986555     1.899444     1.980529     1.902542    50.891805   \n",
       "std       0.115195     0.300810     0.138207     0.296658    14.206991   \n",
       "min       1.000000     1.000000     1.000000     1.000000    18.000000   \n",
       "25%       2.000000     2.000000     2.000000     2.000000    41.000000   \n",
       "50%       2.000000     2.000000     2.000000     2.000000    52.000000   \n",
       "75%       2.000000     2.000000     2.000000     2.000000    61.000000   \n",
       "max       2.000000     2.000000     2.000000     2.000000    90.000000   \n",
       "\n",
       "          ...            edu_c      edu_pgs     inc_lt25     inc_2549  \\\n",
       "count     ...       2173.00000  2173.000000  2167.000000  2167.000000   \n",
       "mean      ...          0.26277     0.207547     0.135210     0.257960   \n",
       "std       ...          0.44024     0.405644     0.342027     0.437613   \n",
       "min       ...          0.00000     0.000000     0.000000     0.000000   \n",
       "25%       ...          0.00000     0.000000     0.000000     0.000000   \n",
       "50%       ...          0.00000     0.000000     0.000000     0.000000   \n",
       "75%       ...          1.00000     0.000000     0.000000     1.000000   \n",
       "max       ...          1.00000     1.000000     1.000000     1.000000   \n",
       "\n",
       "          inc_5074     inc_7599   inc_100124   inc_125199    inc_gt200  \\\n",
       "count  2167.000000  2167.000000  2167.000000  2167.000000  2167.000000   \n",
       "mean      0.251038     0.157360     0.072912     0.085371     0.040148   \n",
       "std       0.433711     0.364224     0.260052     0.279498     0.196351   \n",
       "min       0.000000     0.000000     0.000000     0.000000     0.000000   \n",
       "25%       0.000000     0.000000     0.000000     0.000000     0.000000   \n",
       "50%       0.000000     0.000000     0.000000     0.000000     0.000000   \n",
       "75%       1.000000     0.000000     0.000000     0.000000     0.000000   \n",
       "max       1.000000     1.000000     1.000000     1.000000     1.000000   \n",
       "\n",
       "             white  \n",
       "count  2173.000000  \n",
       "mean      0.876208  \n",
       "std       0.329420  \n",
       "min       0.000000  \n",
       "25%       1.000000  \n",
       "50%       1.000000  \n",
       "75%       1.000000  \n",
       "max       1.000000  \n",
       "\n",
       "[8 rows x 23 columns]"
      ]
     },
     "execution_count": 6,
     "metadata": {},
     "output_type": "execute_result"
    }
   ],
   "source": [
    "SCPC.describe()"
   ]
  },
  {
   "cell_type": "code",
   "execution_count": 7,
   "metadata": {},
   "outputs": [
    {
     "data": {
      "text/html": [
       "<div>\n",
       "<style>\n",
       "    .dataframe thead tr:only-child th {\n",
       "        text-align: right;\n",
       "    }\n",
       "\n",
       "    .dataframe thead th {\n",
       "        text-align: left;\n",
       "    }\n",
       "\n",
       "    .dataframe tbody tr th {\n",
       "        vertical-align: top;\n",
       "    }\n",
       "</style>\n",
       "<table border=\"1\" class=\"dataframe\">\n",
       "  <thead>\n",
       "    <tr style=\"text-align: right;\">\n",
       "      <th></th>\n",
       "      <th>r_weight</th>\n",
       "      <th>pa051_a</th>\n",
       "      <th>pa051_b</th>\n",
       "      <th>pa027_a</th>\n",
       "      <th>pa027_b</th>\n",
       "      <th>pa027_c</th>\n",
       "      <th>pa027_d</th>\n",
       "      <th>pa027_e</th>\n",
       "      <th>pa026</th>\n",
       "      <th>age</th>\n",
       "      <th>...</th>\n",
       "      <th>edu_c</th>\n",
       "      <th>edu_pgs</th>\n",
       "      <th>inc_lt25</th>\n",
       "      <th>inc_2549</th>\n",
       "      <th>inc_5074</th>\n",
       "      <th>inc_7599</th>\n",
       "      <th>inc_100124</th>\n",
       "      <th>inc_125199</th>\n",
       "      <th>inc_gt200</th>\n",
       "      <th>white</th>\n",
       "    </tr>\n",
       "  </thead>\n",
       "  <tbody>\n",
       "    <tr>\n",
       "      <th>0</th>\n",
       "      <td>48.407444</td>\n",
       "      <td>2.0</td>\n",
       "      <td>2.0</td>\n",
       "      <td>2.0</td>\n",
       "      <td>2.0</td>\n",
       "      <td>2.0</td>\n",
       "      <td>2.0</td>\n",
       "      <td>2.0</td>\n",
       "      <td>2.0</td>\n",
       "      <td>56.0</td>\n",
       "      <td>...</td>\n",
       "      <td>0</td>\n",
       "      <td>0</td>\n",
       "      <td>1.0</td>\n",
       "      <td>0.0</td>\n",
       "      <td>0.0</td>\n",
       "      <td>0.0</td>\n",
       "      <td>0.0</td>\n",
       "      <td>0.0</td>\n",
       "      <td>0.0</td>\n",
       "      <td>1</td>\n",
       "    </tr>\n",
       "    <tr>\n",
       "      <th>1</th>\n",
       "      <td>19.693514</td>\n",
       "      <td>2.0</td>\n",
       "      <td>2.0</td>\n",
       "      <td>2.0</td>\n",
       "      <td>2.0</td>\n",
       "      <td>2.0</td>\n",
       "      <td>2.0</td>\n",
       "      <td>2.0</td>\n",
       "      <td>2.0</td>\n",
       "      <td>64.0</td>\n",
       "      <td>...</td>\n",
       "      <td>0</td>\n",
       "      <td>0</td>\n",
       "      <td>0.0</td>\n",
       "      <td>1.0</td>\n",
       "      <td>0.0</td>\n",
       "      <td>0.0</td>\n",
       "      <td>0.0</td>\n",
       "      <td>0.0</td>\n",
       "      <td>0.0</td>\n",
       "      <td>1</td>\n",
       "    </tr>\n",
       "    <tr>\n",
       "      <th>2</th>\n",
       "      <td>27.521273</td>\n",
       "      <td>2.0</td>\n",
       "      <td>2.0</td>\n",
       "      <td>1.0</td>\n",
       "      <td>1.0</td>\n",
       "      <td>2.0</td>\n",
       "      <td>1.0</td>\n",
       "      <td>2.0</td>\n",
       "      <td>1.0</td>\n",
       "      <td>70.0</td>\n",
       "      <td>...</td>\n",
       "      <td>0</td>\n",
       "      <td>0</td>\n",
       "      <td>0.0</td>\n",
       "      <td>1.0</td>\n",
       "      <td>0.0</td>\n",
       "      <td>0.0</td>\n",
       "      <td>0.0</td>\n",
       "      <td>0.0</td>\n",
       "      <td>0.0</td>\n",
       "      <td>1</td>\n",
       "    </tr>\n",
       "    <tr>\n",
       "      <th>3</th>\n",
       "      <td>21.771318</td>\n",
       "      <td>2.0</td>\n",
       "      <td>2.0</td>\n",
       "      <td>2.0</td>\n",
       "      <td>2.0</td>\n",
       "      <td>2.0</td>\n",
       "      <td>2.0</td>\n",
       "      <td>2.0</td>\n",
       "      <td>2.0</td>\n",
       "      <td>63.0</td>\n",
       "      <td>...</td>\n",
       "      <td>0</td>\n",
       "      <td>0</td>\n",
       "      <td>0.0</td>\n",
       "      <td>0.0</td>\n",
       "      <td>0.0</td>\n",
       "      <td>0.0</td>\n",
       "      <td>1.0</td>\n",
       "      <td>0.0</td>\n",
       "      <td>0.0</td>\n",
       "      <td>1</td>\n",
       "    </tr>\n",
       "    <tr>\n",
       "      <th>4</th>\n",
       "      <td>12.004013</td>\n",
       "      <td>2.0</td>\n",
       "      <td>2.0</td>\n",
       "      <td>2.0</td>\n",
       "      <td>2.0</td>\n",
       "      <td>2.0</td>\n",
       "      <td>2.0</td>\n",
       "      <td>2.0</td>\n",
       "      <td>2.0</td>\n",
       "      <td>52.0</td>\n",
       "      <td>...</td>\n",
       "      <td>0</td>\n",
       "      <td>1</td>\n",
       "      <td>0.0</td>\n",
       "      <td>0.0</td>\n",
       "      <td>0.0</td>\n",
       "      <td>1.0</td>\n",
       "      <td>0.0</td>\n",
       "      <td>0.0</td>\n",
       "      <td>0.0</td>\n",
       "      <td>1</td>\n",
       "    </tr>\n",
       "  </tbody>\n",
       "</table>\n",
       "<p>5 rows × 23 columns</p>\n",
       "</div>"
      ],
      "text/plain": [
       "    r_weight  pa051_a  pa051_b  pa027_a  pa027_b  pa027_c  pa027_d  pa027_e  \\\n",
       "0  48.407444      2.0      2.0      2.0      2.0      2.0      2.0      2.0   \n",
       "1  19.693514      2.0      2.0      2.0      2.0      2.0      2.0      2.0   \n",
       "2  27.521273      2.0      2.0      1.0      1.0      2.0      1.0      2.0   \n",
       "3  21.771318      2.0      2.0      2.0      2.0      2.0      2.0      2.0   \n",
       "4  12.004013      2.0      2.0      2.0      2.0      2.0      2.0      2.0   \n",
       "\n",
       "   pa026   age  ...    edu_c  edu_pgs  inc_lt25  inc_2549  inc_5074  inc_7599  \\\n",
       "0    2.0  56.0  ...        0        0       1.0       0.0       0.0       0.0   \n",
       "1    2.0  64.0  ...        0        0       0.0       1.0       0.0       0.0   \n",
       "2    1.0  70.0  ...        0        0       0.0       1.0       0.0       0.0   \n",
       "3    2.0  63.0  ...        0        0       0.0       0.0       0.0       0.0   \n",
       "4    2.0  52.0  ...        0        1       0.0       0.0       0.0       1.0   \n",
       "\n",
       "   inc_100124  inc_125199  inc_gt200  white  \n",
       "0         0.0         0.0        0.0      1  \n",
       "1         0.0         0.0        0.0      1  \n",
       "2         0.0         0.0        0.0      1  \n",
       "3         1.0         0.0        0.0      1  \n",
       "4         0.0         0.0        0.0      1  \n",
       "\n",
       "[5 rows x 23 columns]"
      ]
     },
     "execution_count": 7,
     "metadata": {},
     "output_type": "execute_result"
    }
   ],
   "source": [
    "SCPC.head()"
   ]
  },
  {
   "cell_type": "markdown",
   "metadata": {},
   "source": [
    "<a id=\"recode\"></a>\n",
    "\n",
    "## Recode Variables\n",
    "\n",
    "### Recode \"Payment\" variables and delete null value observations\n",
    "\n",
    "| col    | variable |  Description\n",
    "|:-------|:---------|:-------------\n",
    "|pa051_a |\n",
    "|pa051_b |\n",
    "|pa027_a |\n",
    "|pa027_b |\n",
    "|pa027_c |\n",
    "|pa027_d |\n",
    "|pa027_e |\n",
    "|pa026   | "
   ]
  },
  {
   "cell_type": "code",
   "execution_count": 8,
   "metadata": {
    "collapsed": true
   },
   "outputs": [],
   "source": [
    "pa_col_list = ['pa051_a','pa051_b','pa027_a','pa027_b',\n",
    "               'pa027_c','pa027_d','pa027_e', 'pa026']"
   ]
  },
  {
   "cell_type": "code",
   "execution_count": 9,
   "metadata": {},
   "outputs": [
    {
     "data": {
      "text/plain": [
       "pa051_a    199\n",
       "pa051_b    198\n",
       "pa027_a     15\n",
       "pa027_b     16\n",
       "pa027_c     16\n",
       "pa027_d     15\n",
       "pa027_e     16\n",
       "pa026      285\n",
       "dtype: int64"
      ]
     },
     "execution_count": 9,
     "metadata": {},
     "output_type": "execute_result"
    }
   ],
   "source": [
    "# Count null values per variable\n",
    "SCPC[pa_col_list].isnull().sum()"
   ]
  },
  {
   "cell_type": "code",
   "execution_count": 10,
   "metadata": {},
   "outputs": [
    {
     "data": {
      "text/html": [
       "<div>\n",
       "<style>\n",
       "    .dataframe thead tr:only-child th {\n",
       "        text-align: right;\n",
       "    }\n",
       "\n",
       "    .dataframe thead th {\n",
       "        text-align: left;\n",
       "    }\n",
       "\n",
       "    .dataframe tbody tr th {\n",
       "        vertical-align: top;\n",
       "    }\n",
       "</style>\n",
       "<table border=\"1\" class=\"dataframe\">\n",
       "  <thead>\n",
       "    <tr style=\"text-align: right;\">\n",
       "      <th></th>\n",
       "      <th>pa051_a</th>\n",
       "      <th>pa051_b</th>\n",
       "      <th>pa027_a</th>\n",
       "      <th>pa027_b</th>\n",
       "      <th>pa027_c</th>\n",
       "      <th>pa027_d</th>\n",
       "      <th>pa027_e</th>\n",
       "      <th>pa026</th>\n",
       "    </tr>\n",
       "  </thead>\n",
       "  <tbody>\n",
       "    <tr>\n",
       "      <th>2.0</th>\n",
       "      <td>1941</td>\n",
       "      <td>1958</td>\n",
       "      <td>1952</td>\n",
       "      <td>1995</td>\n",
       "      <td>2128</td>\n",
       "      <td>1941</td>\n",
       "      <td>2115</td>\n",
       "      <td>1704</td>\n",
       "    </tr>\n",
       "    <tr>\n",
       "      <th>1.0</th>\n",
       "      <td>33</td>\n",
       "      <td>17</td>\n",
       "      <td>206</td>\n",
       "      <td>162</td>\n",
       "      <td>29</td>\n",
       "      <td>217</td>\n",
       "      <td>42</td>\n",
       "      <td>184</td>\n",
       "    </tr>\n",
       "  </tbody>\n",
       "</table>\n",
       "</div>"
      ],
      "text/plain": [
       "     pa051_a  pa051_b  pa027_a  pa027_b  pa027_c  pa027_d  pa027_e  pa026\n",
       "2.0     1941     1958     1952     1995     2128     1941     2115   1704\n",
       "1.0       33       17      206      162       29      217       42    184"
      ]
     },
     "execution_count": 10,
     "metadata": {},
     "output_type": "execute_result"
    }
   ],
   "source": [
    "# Count response values per variable\n",
    "#     2 = No\n",
    "#     1 = Yes\n",
    "SCPC[pa_col_list].apply(pd.Series.value_counts)"
   ]
  },
  {
   "cell_type": "code",
   "execution_count": 11,
   "metadata": {
    "collapsed": true
   },
   "outputs": [],
   "source": [
    "# Delete null observations\n",
    "# Recode 'No' response from 2 to 0\n",
    "for i in pa_col_list:\n",
    "    SCPC[i].replace(2,0,inplace=True)\n",
    "    SCPC.dropna(subset=[i],inplace=True)"
   ]
  },
  {
   "cell_type": "code",
   "execution_count": 12,
   "metadata": {},
   "outputs": [
    {
     "data": {
      "text/html": [
       "<div>\n",
       "<style>\n",
       "    .dataframe thead tr:only-child th {\n",
       "        text-align: right;\n",
       "    }\n",
       "\n",
       "    .dataframe thead th {\n",
       "        text-align: left;\n",
       "    }\n",
       "\n",
       "    .dataframe tbody tr th {\n",
       "        vertical-align: top;\n",
       "    }\n",
       "</style>\n",
       "<table border=\"1\" class=\"dataframe\">\n",
       "  <thead>\n",
       "    <tr style=\"text-align: right;\">\n",
       "      <th></th>\n",
       "      <th>pa051_a</th>\n",
       "      <th>pa051_b</th>\n",
       "      <th>pa027_a</th>\n",
       "      <th>pa027_b</th>\n",
       "      <th>pa027_c</th>\n",
       "      <th>pa027_d</th>\n",
       "      <th>pa027_e</th>\n",
       "      <th>pa026</th>\n",
       "    </tr>\n",
       "  </thead>\n",
       "  <tbody>\n",
       "    <tr>\n",
       "      <th>0.0</th>\n",
       "      <td>1850</td>\n",
       "      <td>1863</td>\n",
       "      <td>1699</td>\n",
       "      <td>1735</td>\n",
       "      <td>1855</td>\n",
       "      <td>1681</td>\n",
       "      <td>1839</td>\n",
       "      <td>1697</td>\n",
       "    </tr>\n",
       "    <tr>\n",
       "      <th>1.0</th>\n",
       "      <td>28</td>\n",
       "      <td>15</td>\n",
       "      <td>179</td>\n",
       "      <td>143</td>\n",
       "      <td>23</td>\n",
       "      <td>197</td>\n",
       "      <td>39</td>\n",
       "      <td>181</td>\n",
       "    </tr>\n",
       "  </tbody>\n",
       "</table>\n",
       "</div>"
      ],
      "text/plain": [
       "     pa051_a  pa051_b  pa027_a  pa027_b  pa027_c  pa027_d  pa027_e  pa026\n",
       "0.0     1850     1863     1699     1735     1855     1681     1839   1697\n",
       "1.0       28       15      179      143       23      197       39    181"
      ]
     },
     "execution_count": 12,
     "metadata": {},
     "output_type": "execute_result"
    }
   ],
   "source": [
    "# Summarize response count with null observations deleted\n",
    "SCPC[pa_col_list].apply(pd.Series.value_counts)"
   ]
  },
  {
   "cell_type": "code",
   "execution_count": 13,
   "metadata": {},
   "outputs": [
    {
     "data": {
      "text/plain": [
       "pa051_a    0\n",
       "pa051_b    0\n",
       "pa027_a    0\n",
       "pa027_b    0\n",
       "pa027_c    0\n",
       "pa027_d    0\n",
       "pa027_e    0\n",
       "pa026      0\n",
       "dtype: int64"
      ]
     },
     "execution_count": 13,
     "metadata": {},
     "output_type": "execute_result"
    }
   ],
   "source": [
    "# Confirm removal of all null observations\n",
    "SCPC[pa_col_list].isnull().sum()"
   ]
  },
  {
   "cell_type": "markdown",
   "metadata": {},
   "source": [
    "### Combine payment variables by type (Mobile vs Contactless) and add value labels"
   ]
  },
  {
   "cell_type": "code",
   "execution_count": 14,
   "metadata": {},
   "outputs": [
    {
     "data": {
      "text/plain": [
       "0.0    1838\n",
       "1.0      37\n",
       "2.0       3\n",
       "Name: MPay, dtype: int64"
      ]
     },
     "execution_count": 14,
     "metadata": {},
     "output_type": "execute_result"
    }
   ],
   "source": [
    "# Consolidate mobile payment variables and inspect repsonse counts\n",
    "SCPC['MPay'] = SCPC['pa051_a'] + SCPC['pa051_b']\n",
    "SCPC['MPay'].value_counts()"
   ]
  },
  {
   "cell_type": "code",
   "execution_count": 15,
   "metadata": {},
   "outputs": [
    {
     "name": "stdout",
     "output_type": "stream",
     "text": [
      "0.0    1838\n",
      "1.0      40\n",
      "Name: MPay, dtype: int64\n",
      "No     1838\n",
      "Yes      40\n",
      "Name: MPay_label, dtype: int64\n"
     ]
    }
   ],
   "source": [
    "# Recode all mobile payment \"yes\" responses to 1\n",
    "SCPC['MPay'].replace(to_replace=2,value=1,inplace=True)\n",
    "SCPC['MPay_label'] = SCPC['MPay'].replace(to_replace=[0,1],\n",
    "                                          value=['No','Yes'])\n",
    "\n",
    "print(SCPC['MPay'].value_counts())\n",
    "print(SCPC['MPay_label'].value_counts())"
   ]
  },
  {
   "cell_type": "code",
   "execution_count": 16,
   "metadata": {},
   "outputs": [
    {
     "data": {
      "text/plain": [
       "0.0    1439\n",
       "1.0     333\n",
       "2.0      80\n",
       "3.0      21\n",
       "5.0       5\n",
       "Name: CPay, dtype: int64"
      ]
     },
     "execution_count": 16,
     "metadata": {},
     "output_type": "execute_result"
    }
   ],
   "source": [
    "# Consolidate contactless payment variables\n",
    "SCPC['CPay'] = SCPC['pa027_a'] + SCPC['pa027_b'] + SCPC[\n",
    "    'pa027_c'] + SCPC['pa027_d'] + SCPC['pa027_e']\n",
    "\n",
    "SCPC['CPay'].value_counts()"
   ]
  },
  {
   "cell_type": "code",
   "execution_count": 17,
   "metadata": {},
   "outputs": [
    {
     "name": "stdout",
     "output_type": "stream",
     "text": [
      "0.0    1439\n",
      "1.0     439\n",
      "Name: CPay, dtype: int64\n",
      "No     1439\n",
      "Yes     439\n",
      "Name: CPay_label, dtype: int64\n"
     ]
    }
   ],
   "source": [
    "# Recode all contactless payment \"yes\" responses to 1\n",
    "SCPC.loc[SCPC['CPay'] >= 1, 'CPay'] = 1\n",
    "SCPC['CPay_label'] = SCPC['CPay'].replace(to_replace=[0,1],\n",
    "                                          value=['No','Yes'])\n",
    "\n",
    "print(SCPC['CPay'].value_counts())\n",
    "print(SCPC['CPay_label'].value_counts())"
   ]
  },
  {
   "cell_type": "markdown",
   "metadata": {},
   "source": [
    "### Duplicate Mobile Banking variable and add value labels"
   ]
  },
  {
   "cell_type": "code",
   "execution_count": 18,
   "metadata": {},
   "outputs": [
    {
     "name": "stdout",
     "output_type": "stream",
     "text": [
      "0.0    1697\n",
      "1.0     181\n",
      "Name: MBank, dtype: int64\n",
      "No     1697\n",
      "Yes     181\n",
      "Name: MBank_label, dtype: int64\n"
     ]
    }
   ],
   "source": [
    "SCPC['MBank'] = SCPC['pa026']\n",
    "SCPC['MBank_label'] = SCPC['MBank'].replace(to_replace=[0,1],\n",
    "                                            value=['No','Yes'])\n",
    "print(SCPC['MBank'].value_counts())\n",
    "print(SCPC['MBank_label'].value_counts())"
   ]
  },
  {
   "cell_type": "markdown",
   "metadata": {},
   "source": [
    "<a id=\"education\"></a>\n",
    "\n",
    "### Recode and combine Education Level variables and create value labels"
   ]
  },
  {
   "cell_type": "code",
   "execution_count": 19,
   "metadata": {
    "collapsed": true
   },
   "outputs": [],
   "source": [
    "ed_col_list = ['edu_lhs','edu_hs','edu_sc','edu_c','edu_pgs']"
   ]
  },
  {
   "cell_type": "code",
   "execution_count": 20,
   "metadata": {},
   "outputs": [
    {
     "name": "stdout",
     "output_type": "stream",
     "text": [
      "0    1848\n",
      "1      30\n",
      "Name: edu_lhs, dtype: int64\n",
      "0    1619\n",
      "2     259\n",
      "Name: edu_hs, dtype: int64\n",
      "0    1211\n",
      "3     667\n",
      "Name: edu_sc, dtype: int64\n",
      "0    1361\n",
      "4     517\n",
      "Name: edu_c, dtype: int64\n",
      "0    1473\n",
      "5     405\n",
      "Name: edu_pgs, dtype: int64\n"
     ]
    }
   ],
   "source": [
    "# Create 'EdLevel' column\n",
    "SCPC['EdLevel'] = 0\n",
    "\n",
    "# Recode and print response counts for each ed_col_list variable\n",
    "# based on education levels 1-5\n",
    "for i in ed_col_list:\n",
    "    SCPC.loc[SCPC[i] == 1,i] = ed_col_list.index(i) + 1\n",
    "    print(SCPC[i].value_counts())"
   ]
  },
  {
   "cell_type": "code",
   "execution_count": 21,
   "metadata": {},
   "outputs": [
    {
     "data": {
      "text/plain": [
       "1     30\n",
       "2    259\n",
       "3    667\n",
       "4    517\n",
       "5    405\n",
       "Name: EdLevel, dtype: int64"
      ]
     },
     "execution_count": 21,
     "metadata": {},
     "output_type": "execute_result"
    }
   ],
   "source": [
    "# Consolidate ed_col_list variables into single EdLevel column\n",
    "for i in ed_col_list:\n",
    "    SCPC['EdLevel'] = SCPC['EdLevel'] + SCPC[i]\n",
    "    \n",
    "# Confirm results\n",
    "SCPC['EdLevel'].value_counts().sort_index()"
   ]
  },
  {
   "cell_type": "code",
   "execution_count": 22,
   "metadata": {},
   "outputs": [
    {
     "data": {
      "text/plain": [
       "Some College             667\n",
       "College                  517\n",
       "Post-graduate Studies    405\n",
       "High School              259\n",
       "Less than High School     30\n",
       "Name: EdLevel_label, dtype: int64"
      ]
     },
     "execution_count": 22,
     "metadata": {},
     "output_type": "execute_result"
    }
   ],
   "source": [
    "# Create corresponding EdLevel value descriptions\n",
    "SCPC['EdLevel_label'] = SCPC['EdLevel'].replace(\n",
    "    to_replace=[1,2,3,4,5],\n",
    "    value=['Less than High School','High School',\n",
    "           'Some College','College','Post-graduate Studies'])\n",
    "\n",
    "# Confirm results\n",
    "SCPC['EdLevel_label'].value_counts()"
   ]
  },
  {
   "cell_type": "markdown",
   "metadata": {},
   "source": [
    "<a id=\"income\"></a>\n",
    "\n",
    "### Recode and combine Income Level variables and create value labels"
   ]
  },
  {
   "cell_type": "code",
   "execution_count": 23,
   "metadata": {
    "collapsed": true
   },
   "outputs": [],
   "source": [
    "inc_col_list = ['inc_lt25','inc_2549','inc_5074','inc_7599',\n",
    "                'inc_100124','inc_125199','inc_gt200']"
   ]
  },
  {
   "cell_type": "code",
   "execution_count": 24,
   "metadata": {},
   "outputs": [
    {
     "name": "stdout",
     "output_type": "stream",
     "text": [
      "0.0    1677\n",
      "1.0     196\n",
      "Name: inc_lt25, dtype: int64\n",
      "0.0    1402\n",
      "2.0     471\n",
      "Name: inc_2549, dtype: int64\n",
      "0.0    1390\n",
      "3.0     483\n",
      "Name: inc_5074, dtype: int64\n",
      "0.0    1559\n",
      "4.0     314\n",
      "Name: inc_7599, dtype: int64\n",
      "0.0    1726\n",
      "5.0     147\n",
      "Name: inc_100124, dtype: int64\n",
      "0.0    1697\n",
      "6.0     176\n",
      "Name: inc_125199, dtype: int64\n",
      "0.0    1787\n",
      "7.0      86\n",
      "Name: inc_gt200, dtype: int64\n"
     ]
    }
   ],
   "source": [
    "# Recode and print response counts for each inc_col_list variable\n",
    "# based on income levels 1-7\n",
    "for i in inc_col_list:\n",
    "    SCPC.loc[SCPC[i] == 1,i] = inc_col_list.index(i) + 1\n",
    "    SCPC.dropna(subset=[i],inplace=True)\n",
    "    print(SCPC[i].value_counts())"
   ]
  },
  {
   "cell_type": "code",
   "execution_count": 25,
   "metadata": {},
   "outputs": [
    {
     "data": {
      "text/plain": [
       "inc_lt25      0\n",
       "inc_2549      0\n",
       "inc_5074      0\n",
       "inc_7599      0\n",
       "inc_100124    0\n",
       "inc_125199    0\n",
       "inc_gt200     0\n",
       "dtype: int64"
      ]
     },
     "execution_count": 25,
     "metadata": {},
     "output_type": "execute_result"
    }
   ],
   "source": [
    "# Confirm no null value counts\n",
    "SCPC[inc_col_list].isnull().sum()"
   ]
  },
  {
   "cell_type": "code",
   "execution_count": 26,
   "metadata": {},
   "outputs": [
    {
     "data": {
      "text/plain": [
       "1.0    196\n",
       "2.0    471\n",
       "3.0    483\n",
       "4.0    314\n",
       "5.0    147\n",
       "6.0    176\n",
       "7.0     86\n",
       "Name: IncLevel, dtype: int64"
      ]
     },
     "execution_count": 26,
     "metadata": {},
     "output_type": "execute_result"
    }
   ],
   "source": [
    "# Consolidate all inc_col_list variables into single column\n",
    "SCPC['IncLevel'] = 0\n",
    "\n",
    "for i in inc_col_list:\n",
    "    SCPC['IncLevel'] = SCPC['IncLevel'] + SCPC[i]\n",
    "    \n",
    "SCPC['IncLevel'].value_counts().sort_index()"
   ]
  },
  {
   "cell_type": "code",
   "execution_count": 27,
   "metadata": {},
   "outputs": [
    {
     "data": {
      "text/plain": [
       "0                    Less than $25,000\n",
       "1             $25,000-$49,999 per year\n",
       "2             $25,000-$49,999 per year\n",
       "3           $100,000-$124,999 per year\n",
       "4             $75,000-$99,999 per year\n",
       "5       Greater than $200,000 per year\n",
       "6             $25,000-$49,999 per year\n",
       "8                    Less than $25,000\n",
       "9             $25,000-$49,999 per year\n",
       "10          $125,000-$199,999 per year\n",
       "11            $25,000-$49,999 per year\n",
       "12            $25,000-$49,999 per year\n",
       "13            $50,000-$74,999 per year\n",
       "14            $75,000-$99,999 per year\n",
       "15            $75,000-$99,999 per year\n",
       "16            $75,000-$99,999 per year\n",
       "17                   Less than $25,000\n",
       "18            $25,000-$49,999 per year\n",
       "19            $75,000-$99,999 per year\n",
       "20          $100,000-$124,999 per year\n",
       "21            $50,000-$74,999 per year\n",
       "23          $125,000-$199,999 per year\n",
       "24            $50,000-$74,999 per year\n",
       "25          $100,000-$124,999 per year\n",
       "26          $125,000-$199,999 per year\n",
       "27      Greater than $200,000 per year\n",
       "28            $25,000-$49,999 per year\n",
       "29                   Less than $25,000\n",
       "30          $100,000-$124,999 per year\n",
       "31            $50,000-$74,999 per year\n",
       "                     ...              \n",
       "2143    Greater than $200,000 per year\n",
       "2144          $75,000-$99,999 per year\n",
       "2145          $50,000-$74,999 per year\n",
       "2146        $100,000-$124,999 per year\n",
       "2147          $50,000-$74,999 per year\n",
       "2148                 Less than $25,000\n",
       "2149          $50,000-$74,999 per year\n",
       "2150        $100,000-$124,999 per year\n",
       "2151          $50,000-$74,999 per year\n",
       "2152          $25,000-$49,999 per year\n",
       "2153          $50,000-$74,999 per year\n",
       "2154          $50,000-$74,999 per year\n",
       "2155    Greater than $200,000 per year\n",
       "2156          $75,000-$99,999 per year\n",
       "2157          $25,000-$49,999 per year\n",
       "2158          $50,000-$74,999 per year\n",
       "2159                 Less than $25,000\n",
       "2160          $50,000-$74,999 per year\n",
       "2161          $50,000-$74,999 per year\n",
       "2162          $50,000-$74,999 per year\n",
       "2163          $25,000-$49,999 per year\n",
       "2164        $125,000-$199,999 per year\n",
       "2165          $25,000-$49,999 per year\n",
       "2166                 Less than $25,000\n",
       "2167    Greater than $200,000 per year\n",
       "2168        $100,000-$124,999 per year\n",
       "2169          $25,000-$49,999 per year\n",
       "2170        $100,000-$124,999 per year\n",
       "2171          $25,000-$49,999 per year\n",
       "2172          $50,000-$74,999 per year\n",
       "Name: IncLevel_label, Length: 1873, dtype: object"
      ]
     },
     "execution_count": 27,
     "metadata": {},
     "output_type": "execute_result"
    },
    {
     "data": {
      "text/plain": [
       "$100,000-$124,999 per year        147\n",
       "$125,000-$199,999 per year        176\n",
       "$25,000-$49,999 per year          471\n",
       "$50,000-$74,999 per year          483\n",
       "$75,000-$99,999 per year          314\n",
       "Greater than $200,000 per year     86\n",
       "Less than $25,000                 196\n",
       "Name: IncLevel_label, dtype: int64"
      ]
     },
     "execution_count": 27,
     "metadata": {},
     "output_type": "execute_result"
    }
   ],
   "source": [
    "# Create corresponding income level category names\n",
    "SCPC['IncLevel_label'] = SCPC['IncLevel'].replace(\n",
    "    {1:\"Less than $25,000\",\n",
    "     2:\"$25,000-$49,999 per year\",\n",
    "     3:\"$50,000-$74,999 per year\",\n",
    "     4:\"$75,000-$99,999 per year\",\n",
    "     5:\"$100,000-$124,999 per year\",\n",
    "     6:\"$125,000-$199,999 per year\",\n",
    "     7:\"Greater than $200,000 per year\"})\n",
    "\n",
    "SCPC['IncLevel_label'].apply(str)\n",
    "SCPC['IncLevel_label'].value_counts().sort_index()"
   ]
  },
  {
   "cell_type": "markdown",
   "metadata": {},
   "source": [
    "<a id=\"white\"></a>\n",
    "### White variable create label column"
   ]
  },
  {
   "cell_type": "code",
   "execution_count": 28,
   "metadata": {},
   "outputs": [
    {
     "data": {
      "text/plain": [
       "0"
      ]
     },
     "execution_count": 28,
     "metadata": {},
     "output_type": "execute_result"
    }
   ],
   "source": [
    "# Confirm no null values\n",
    "SCPC['white'].isnull().sum()"
   ]
  },
  {
   "cell_type": "code",
   "execution_count": 29,
   "metadata": {
    "collapsed": true
   },
   "outputs": [],
   "source": [
    "SCPC['white_label'] = SCPC['white'].replace({0:'No',1:'Yes'})"
   ]
  },
  {
   "cell_type": "code",
   "execution_count": 30,
   "metadata": {},
   "outputs": [
    {
     "name": "stdout",
     "output_type": "stream",
     "text": [
      "1    1663\n",
      "0     210\n",
      "Name: white, dtype: int64\n",
      "Yes    1663\n",
      "No      210\n",
      "Name: white_label, dtype: int64\n"
     ]
    }
   ],
   "source": [
    "print(SCPC['white'].value_counts())\n",
    "print(SCPC['white_label'].value_counts())"
   ]
  },
  {
   "cell_type": "markdown",
   "metadata": {},
   "source": [
    "<a id=\"age\"></a>\n",
    "### Recode Age variable and delete null values"
   ]
  },
  {
   "cell_type": "code",
   "execution_count": 31,
   "metadata": {},
   "outputs": [
    {
     "data": {
      "text/plain": [
       "0"
      ]
     },
     "execution_count": 31,
     "metadata": {},
     "output_type": "execute_result"
    }
   ],
   "source": [
    "SCPC.dropna(subset=['age'],inplace=True)\n",
    "SCPC['age'].isnull().sum()"
   ]
  },
  {
   "cell_type": "code",
   "execution_count": 32,
   "metadata": {},
   "outputs": [
    {
     "data": {
      "text/plain": [
       "1     83\n",
       "2    195\n",
       "3    279\n",
       "4    554\n",
       "5    474\n",
       "6    287\n",
       "Name: AgeLevel, dtype: int64"
      ]
     },
     "execution_count": 32,
     "metadata": {},
     "output_type": "execute_result"
    }
   ],
   "source": [
    "# Recode age categories\n",
    "SCPC['AgeLevel'] = pd.cut(SCPC['age'],\n",
    "                          bins=[0,24,34,44,54,64,100],\n",
    "                          labels=[1,2,3,4,5,6])\n",
    "SCPC['AgeLevel'].value_counts().sort_index()"
   ]
  },
  {
   "cell_type": "code",
   "execution_count": 33,
   "metadata": {},
   "outputs": [
    {
     "data": {
      "text/plain": [
       "25-34 years           195\n",
       "35-44 years           279\n",
       "45-54 years           554\n",
       "55-64 years           474\n",
       "Less than 25 years     83\n",
       "More than 65          287\n",
       "Name: AgeLevel_label, dtype: int64"
      ]
     },
     "execution_count": 33,
     "metadata": {},
     "output_type": "execute_result"
    }
   ],
   "source": [
    "# Create age category labels\n",
    "SCPC['AgeLevel_label'] = SCPC['AgeLevel'].replace(\n",
    "    {1:\"Less than 25 years\",\n",
    "     2:\"25-34 years\",\n",
    "     3:\"35-44 years\",\n",
    "     4:\"45-54 years\",\n",
    "     5:\"55-64 years\",\n",
    "     6:\"More than 65\"})\n",
    "\n",
    "SCPC['AgeLevel_label'].value_counts().sort_index()"
   ]
  },
  {
   "cell_type": "code",
   "execution_count": 34,
   "metadata": {},
   "outputs": [
    {
     "data": {
      "text/html": [
       "<div>\n",
       "<style>\n",
       "    .dataframe thead tr:only-child th {\n",
       "        text-align: right;\n",
       "    }\n",
       "\n",
       "    .dataframe thead th {\n",
       "        text-align: left;\n",
       "    }\n",
       "\n",
       "    .dataframe tbody tr th {\n",
       "        vertical-align: top;\n",
       "    }\n",
       "</style>\n",
       "<table border=\"1\" class=\"dataframe\">\n",
       "  <thead>\n",
       "    <tr style=\"text-align: right;\">\n",
       "      <th></th>\n",
       "      <th>age</th>\n",
       "      <th>AgeLevel</th>\n",
       "      <th>AgeLevel_label</th>\n",
       "    </tr>\n",
       "  </thead>\n",
       "  <tbody>\n",
       "    <tr>\n",
       "      <th>0</th>\n",
       "      <td>56.0</td>\n",
       "      <td>5</td>\n",
       "      <td>55-64 years</td>\n",
       "    </tr>\n",
       "    <tr>\n",
       "      <th>1</th>\n",
       "      <td>64.0</td>\n",
       "      <td>5</td>\n",
       "      <td>55-64 years</td>\n",
       "    </tr>\n",
       "    <tr>\n",
       "      <th>2</th>\n",
       "      <td>70.0</td>\n",
       "      <td>6</td>\n",
       "      <td>More than 65</td>\n",
       "    </tr>\n",
       "    <tr>\n",
       "      <th>3</th>\n",
       "      <td>63.0</td>\n",
       "      <td>5</td>\n",
       "      <td>55-64 years</td>\n",
       "    </tr>\n",
       "    <tr>\n",
       "      <th>4</th>\n",
       "      <td>52.0</td>\n",
       "      <td>4</td>\n",
       "      <td>45-54 years</td>\n",
       "    </tr>\n",
       "  </tbody>\n",
       "</table>\n",
       "</div>"
      ],
      "text/plain": [
       "    age AgeLevel AgeLevel_label\n",
       "0  56.0        5    55-64 years\n",
       "1  64.0        5    55-64 years\n",
       "2  70.0        6   More than 65\n",
       "3  63.0        5    55-64 years\n",
       "4  52.0        4    45-54 years"
      ]
     },
     "execution_count": 34,
     "metadata": {},
     "output_type": "execute_result"
    }
   ],
   "source": [
    "# Confirm results\n",
    "SCPC[['age','AgeLevel','AgeLevel_label']].head()"
   ]
  },
  {
   "cell_type": "markdown",
   "metadata": {
    "collapsed": true
   },
   "source": [
    "<a id=\"explore\"></a>\n",
    "## Visualize Variables"
   ]
  },
  {
   "cell_type": "code",
   "execution_count": 35,
   "metadata": {},
   "outputs": [
    {
     "data": {
      "text/html": [
       "<div>\n",
       "<style>\n",
       "    .dataframe thead tr:only-child th {\n",
       "        text-align: right;\n",
       "    }\n",
       "\n",
       "    .dataframe thead th {\n",
       "        text-align: left;\n",
       "    }\n",
       "\n",
       "    .dataframe tbody tr th {\n",
       "        vertical-align: top;\n",
       "    }\n",
       "</style>\n",
       "<table border=\"1\" class=\"dataframe\">\n",
       "  <thead>\n",
       "    <tr style=\"text-align: right;\">\n",
       "      <th></th>\n",
       "      <th>MPay</th>\n",
       "      <th>CPay</th>\n",
       "      <th>MBank</th>\n",
       "      <th>age</th>\n",
       "      <th>EdLevel</th>\n",
       "      <th>IncLevel</th>\n",
       "      <th>white</th>\n",
       "      <th>intercept</th>\n",
       "    </tr>\n",
       "  </thead>\n",
       "  <tbody>\n",
       "    <tr>\n",
       "      <th>0</th>\n",
       "      <td>0.0</td>\n",
       "      <td>0.0</td>\n",
       "      <td>0.0</td>\n",
       "      <td>56.0</td>\n",
       "      <td>2</td>\n",
       "      <td>1.0</td>\n",
       "      <td>1</td>\n",
       "      <td>1.0</td>\n",
       "    </tr>\n",
       "    <tr>\n",
       "      <th>1</th>\n",
       "      <td>0.0</td>\n",
       "      <td>0.0</td>\n",
       "      <td>0.0</td>\n",
       "      <td>64.0</td>\n",
       "      <td>3</td>\n",
       "      <td>2.0</td>\n",
       "      <td>1</td>\n",
       "      <td>1.0</td>\n",
       "    </tr>\n",
       "    <tr>\n",
       "      <th>2</th>\n",
       "      <td>0.0</td>\n",
       "      <td>1.0</td>\n",
       "      <td>1.0</td>\n",
       "      <td>70.0</td>\n",
       "      <td>3</td>\n",
       "      <td>2.0</td>\n",
       "      <td>1</td>\n",
       "      <td>1.0</td>\n",
       "    </tr>\n",
       "    <tr>\n",
       "      <th>3</th>\n",
       "      <td>0.0</td>\n",
       "      <td>0.0</td>\n",
       "      <td>0.0</td>\n",
       "      <td>63.0</td>\n",
       "      <td>3</td>\n",
       "      <td>5.0</td>\n",
       "      <td>1</td>\n",
       "      <td>1.0</td>\n",
       "    </tr>\n",
       "    <tr>\n",
       "      <th>4</th>\n",
       "      <td>0.0</td>\n",
       "      <td>0.0</td>\n",
       "      <td>0.0</td>\n",
       "      <td>52.0</td>\n",
       "      <td>5</td>\n",
       "      <td>4.0</td>\n",
       "      <td>1</td>\n",
       "      <td>1.0</td>\n",
       "    </tr>\n",
       "  </tbody>\n",
       "</table>\n",
       "</div>"
      ],
      "text/plain": [
       "   MPay  CPay  MBank   age  EdLevel  IncLevel  white  intercept\n",
       "0   0.0   0.0    0.0  56.0        2       1.0      1        1.0\n",
       "1   0.0   0.0    0.0  64.0        3       2.0      1        1.0\n",
       "2   0.0   1.0    1.0  70.0        3       2.0      1        1.0\n",
       "3   0.0   0.0    0.0  63.0        3       5.0      1        1.0\n",
       "4   0.0   0.0    0.0  52.0        5       4.0      1        1.0"
      ]
     },
     "execution_count": 35,
     "metadata": {},
     "output_type": "execute_result"
    },
    {
     "data": {
      "text/html": [
       "<div>\n",
       "<style>\n",
       "    .dataframe thead tr:only-child th {\n",
       "        text-align: right;\n",
       "    }\n",
       "\n",
       "    .dataframe thead th {\n",
       "        text-align: left;\n",
       "    }\n",
       "\n",
       "    .dataframe tbody tr th {\n",
       "        vertical-align: top;\n",
       "    }\n",
       "</style>\n",
       "<table border=\"1\" class=\"dataframe\">\n",
       "  <thead>\n",
       "    <tr style=\"text-align: right;\">\n",
       "      <th></th>\n",
       "      <th>MPay</th>\n",
       "      <th>CPay</th>\n",
       "      <th>MBank</th>\n",
       "      <th>age</th>\n",
       "      <th>EdLevel</th>\n",
       "      <th>IncLevel</th>\n",
       "      <th>white</th>\n",
       "      <th>intercept</th>\n",
       "    </tr>\n",
       "  </thead>\n",
       "  <tbody>\n",
       "    <tr>\n",
       "      <th>count</th>\n",
       "      <td>1872.000000</td>\n",
       "      <td>1872.000000</td>\n",
       "      <td>1872.000000</td>\n",
       "      <td>1872.000000</td>\n",
       "      <td>1872.000000</td>\n",
       "      <td>1872.000000</td>\n",
       "      <td>1872.000000</td>\n",
       "      <td>1872.0</td>\n",
       "    </tr>\n",
       "    <tr>\n",
       "      <th>mean</th>\n",
       "      <td>0.021368</td>\n",
       "      <td>0.233974</td>\n",
       "      <td>0.096688</td>\n",
       "      <td>50.544872</td>\n",
       "      <td>3.536859</td>\n",
       "      <td>3.327457</td>\n",
       "      <td>0.887821</td>\n",
       "      <td>1.0</td>\n",
       "    </tr>\n",
       "    <tr>\n",
       "      <th>std</th>\n",
       "      <td>0.144645</td>\n",
       "      <td>0.423469</td>\n",
       "      <td>0.295611</td>\n",
       "      <td>13.869789</td>\n",
       "      <td>1.025453</td>\n",
       "      <td>1.618352</td>\n",
       "      <td>0.315671</td>\n",
       "      <td>0.0</td>\n",
       "    </tr>\n",
       "    <tr>\n",
       "      <th>min</th>\n",
       "      <td>0.000000</td>\n",
       "      <td>0.000000</td>\n",
       "      <td>0.000000</td>\n",
       "      <td>18.000000</td>\n",
       "      <td>1.000000</td>\n",
       "      <td>1.000000</td>\n",
       "      <td>0.000000</td>\n",
       "      <td>1.0</td>\n",
       "    </tr>\n",
       "    <tr>\n",
       "      <th>25%</th>\n",
       "      <td>0.000000</td>\n",
       "      <td>0.000000</td>\n",
       "      <td>0.000000</td>\n",
       "      <td>41.000000</td>\n",
       "      <td>3.000000</td>\n",
       "      <td>2.000000</td>\n",
       "      <td>1.000000</td>\n",
       "      <td>1.0</td>\n",
       "    </tr>\n",
       "    <tr>\n",
       "      <th>50%</th>\n",
       "      <td>0.000000</td>\n",
       "      <td>0.000000</td>\n",
       "      <td>0.000000</td>\n",
       "      <td>52.000000</td>\n",
       "      <td>3.000000</td>\n",
       "      <td>3.000000</td>\n",
       "      <td>1.000000</td>\n",
       "      <td>1.0</td>\n",
       "    </tr>\n",
       "    <tr>\n",
       "      <th>75%</th>\n",
       "      <td>0.000000</td>\n",
       "      <td>0.000000</td>\n",
       "      <td>0.000000</td>\n",
       "      <td>60.000000</td>\n",
       "      <td>4.000000</td>\n",
       "      <td>4.000000</td>\n",
       "      <td>1.000000</td>\n",
       "      <td>1.0</td>\n",
       "    </tr>\n",
       "    <tr>\n",
       "      <th>max</th>\n",
       "      <td>1.000000</td>\n",
       "      <td>1.000000</td>\n",
       "      <td>1.000000</td>\n",
       "      <td>89.000000</td>\n",
       "      <td>5.000000</td>\n",
       "      <td>7.000000</td>\n",
       "      <td>1.000000</td>\n",
       "      <td>1.0</td>\n",
       "    </tr>\n",
       "  </tbody>\n",
       "</table>\n",
       "</div>"
      ],
      "text/plain": [
       "              MPay         CPay        MBank          age      EdLevel  \\\n",
       "count  1872.000000  1872.000000  1872.000000  1872.000000  1872.000000   \n",
       "mean      0.021368     0.233974     0.096688    50.544872     3.536859   \n",
       "std       0.144645     0.423469     0.295611    13.869789     1.025453   \n",
       "min       0.000000     0.000000     0.000000    18.000000     1.000000   \n",
       "25%       0.000000     0.000000     0.000000    41.000000     3.000000   \n",
       "50%       0.000000     0.000000     0.000000    52.000000     3.000000   \n",
       "75%       0.000000     0.000000     0.000000    60.000000     4.000000   \n",
       "max       1.000000     1.000000     1.000000    89.000000     5.000000   \n",
       "\n",
       "          IncLevel        white  intercept  \n",
       "count  1872.000000  1872.000000     1872.0  \n",
       "mean      3.327457     0.887821        1.0  \n",
       "std       1.618352     0.315671        0.0  \n",
       "min       1.000000     0.000000        1.0  \n",
       "25%       2.000000     1.000000        1.0  \n",
       "50%       3.000000     1.000000        1.0  \n",
       "75%       4.000000     1.000000        1.0  \n",
       "max       7.000000     1.000000        1.0  "
      ]
     },
     "execution_count": 35,
     "metadata": {},
     "output_type": "execute_result"
    },
    {
     "name": "stdout",
     "output_type": "stream",
     "text": [
      "<class 'pandas.core.frame.DataFrame'>\n",
      "Int64Index: 1872 entries, 0 to 2172\n",
      "Data columns (total 8 columns):\n",
      "MPay         1872 non-null float64\n",
      "CPay         1872 non-null float64\n",
      "MBank        1872 non-null float64\n",
      "age          1872 non-null float64\n",
      "EdLevel      1872 non-null int64\n",
      "IncLevel     1872 non-null float64\n",
      "white        1872 non-null int64\n",
      "intercept    1872 non-null float64\n",
      "dtypes: float64(6), int64(2)\n",
      "memory usage: 131.6 KB\n"
     ]
    }
   ],
   "source": [
    "# Subset coded variables with CPay and MBank included\n",
    "coded_variables = ['MPay','CPay','MBank','age',\n",
    "                   'EdLevel','IncLevel','white']\n",
    "\n",
    "df1 = SCPC[coded_variables]\n",
    "df1['intercept']=1.0\n",
    "df1.head()\n",
    "df1.describe()\n",
    "df1.info()"
   ]
  },
  {
   "cell_type": "code",
   "execution_count": 36,
   "metadata": {},
   "outputs": [
    {
     "data": {
      "text/html": [
       "<div>\n",
       "<style>\n",
       "    .dataframe thead tr:only-child th {\n",
       "        text-align: right;\n",
       "    }\n",
       "\n",
       "    .dataframe thead th {\n",
       "        text-align: left;\n",
       "    }\n",
       "\n",
       "    .dataframe tbody tr th {\n",
       "        vertical-align: top;\n",
       "    }\n",
       "</style>\n",
       "<table border=\"1\" class=\"dataframe\">\n",
       "  <thead>\n",
       "    <tr style=\"text-align: right;\">\n",
       "      <th></th>\n",
       "      <th>MPay</th>\n",
       "      <th>age</th>\n",
       "      <th>EdLevel</th>\n",
       "      <th>IncLevel</th>\n",
       "      <th>white</th>\n",
       "      <th>intercept</th>\n",
       "    </tr>\n",
       "  </thead>\n",
       "  <tbody>\n",
       "    <tr>\n",
       "      <th>0</th>\n",
       "      <td>0.0</td>\n",
       "      <td>56.0</td>\n",
       "      <td>2</td>\n",
       "      <td>1.0</td>\n",
       "      <td>1</td>\n",
       "      <td>1.0</td>\n",
       "    </tr>\n",
       "    <tr>\n",
       "      <th>1</th>\n",
       "      <td>0.0</td>\n",
       "      <td>64.0</td>\n",
       "      <td>3</td>\n",
       "      <td>2.0</td>\n",
       "      <td>1</td>\n",
       "      <td>1.0</td>\n",
       "    </tr>\n",
       "    <tr>\n",
       "      <th>2</th>\n",
       "      <td>0.0</td>\n",
       "      <td>70.0</td>\n",
       "      <td>3</td>\n",
       "      <td>2.0</td>\n",
       "      <td>1</td>\n",
       "      <td>1.0</td>\n",
       "    </tr>\n",
       "    <tr>\n",
       "      <th>3</th>\n",
       "      <td>0.0</td>\n",
       "      <td>63.0</td>\n",
       "      <td>3</td>\n",
       "      <td>5.0</td>\n",
       "      <td>1</td>\n",
       "      <td>1.0</td>\n",
       "    </tr>\n",
       "    <tr>\n",
       "      <th>4</th>\n",
       "      <td>0.0</td>\n",
       "      <td>52.0</td>\n",
       "      <td>5</td>\n",
       "      <td>4.0</td>\n",
       "      <td>1</td>\n",
       "      <td>1.0</td>\n",
       "    </tr>\n",
       "  </tbody>\n",
       "</table>\n",
       "</div>"
      ],
      "text/plain": [
       "   MPay   age  EdLevel  IncLevel  white  intercept\n",
       "0   0.0  56.0        2       1.0      1        1.0\n",
       "1   0.0  64.0        3       2.0      1        1.0\n",
       "2   0.0  70.0        3       2.0      1        1.0\n",
       "3   0.0  63.0        3       5.0      1        1.0\n",
       "4   0.0  52.0        5       4.0      1        1.0"
      ]
     },
     "execution_count": 36,
     "metadata": {},
     "output_type": "execute_result"
    },
    {
     "data": {
      "text/html": [
       "<div>\n",
       "<style>\n",
       "    .dataframe thead tr:only-child th {\n",
       "        text-align: right;\n",
       "    }\n",
       "\n",
       "    .dataframe thead th {\n",
       "        text-align: left;\n",
       "    }\n",
       "\n",
       "    .dataframe tbody tr th {\n",
       "        vertical-align: top;\n",
       "    }\n",
       "</style>\n",
       "<table border=\"1\" class=\"dataframe\">\n",
       "  <thead>\n",
       "    <tr style=\"text-align: right;\">\n",
       "      <th></th>\n",
       "      <th>MPay</th>\n",
       "      <th>age</th>\n",
       "      <th>EdLevel</th>\n",
       "      <th>IncLevel</th>\n",
       "      <th>white</th>\n",
       "      <th>intercept</th>\n",
       "    </tr>\n",
       "  </thead>\n",
       "  <tbody>\n",
       "    <tr>\n",
       "      <th>count</th>\n",
       "      <td>1872.000000</td>\n",
       "      <td>1872.000000</td>\n",
       "      <td>1872.000000</td>\n",
       "      <td>1872.000000</td>\n",
       "      <td>1872.000000</td>\n",
       "      <td>1872.0</td>\n",
       "    </tr>\n",
       "    <tr>\n",
       "      <th>mean</th>\n",
       "      <td>0.021368</td>\n",
       "      <td>50.544872</td>\n",
       "      <td>3.536859</td>\n",
       "      <td>3.327457</td>\n",
       "      <td>0.887821</td>\n",
       "      <td>1.0</td>\n",
       "    </tr>\n",
       "    <tr>\n",
       "      <th>std</th>\n",
       "      <td>0.144645</td>\n",
       "      <td>13.869789</td>\n",
       "      <td>1.025453</td>\n",
       "      <td>1.618352</td>\n",
       "      <td>0.315671</td>\n",
       "      <td>0.0</td>\n",
       "    </tr>\n",
       "    <tr>\n",
       "      <th>min</th>\n",
       "      <td>0.000000</td>\n",
       "      <td>18.000000</td>\n",
       "      <td>1.000000</td>\n",
       "      <td>1.000000</td>\n",
       "      <td>0.000000</td>\n",
       "      <td>1.0</td>\n",
       "    </tr>\n",
       "    <tr>\n",
       "      <th>25%</th>\n",
       "      <td>0.000000</td>\n",
       "      <td>41.000000</td>\n",
       "      <td>3.000000</td>\n",
       "      <td>2.000000</td>\n",
       "      <td>1.000000</td>\n",
       "      <td>1.0</td>\n",
       "    </tr>\n",
       "    <tr>\n",
       "      <th>50%</th>\n",
       "      <td>0.000000</td>\n",
       "      <td>52.000000</td>\n",
       "      <td>3.000000</td>\n",
       "      <td>3.000000</td>\n",
       "      <td>1.000000</td>\n",
       "      <td>1.0</td>\n",
       "    </tr>\n",
       "    <tr>\n",
       "      <th>75%</th>\n",
       "      <td>0.000000</td>\n",
       "      <td>60.000000</td>\n",
       "      <td>4.000000</td>\n",
       "      <td>4.000000</td>\n",
       "      <td>1.000000</td>\n",
       "      <td>1.0</td>\n",
       "    </tr>\n",
       "    <tr>\n",
       "      <th>max</th>\n",
       "      <td>1.000000</td>\n",
       "      <td>89.000000</td>\n",
       "      <td>5.000000</td>\n",
       "      <td>7.000000</td>\n",
       "      <td>1.000000</td>\n",
       "      <td>1.0</td>\n",
       "    </tr>\n",
       "  </tbody>\n",
       "</table>\n",
       "</div>"
      ],
      "text/plain": [
       "              MPay          age      EdLevel     IncLevel        white  \\\n",
       "count  1872.000000  1872.000000  1872.000000  1872.000000  1872.000000   \n",
       "mean      0.021368    50.544872     3.536859     3.327457     0.887821   \n",
       "std       0.144645    13.869789     1.025453     1.618352     0.315671   \n",
       "min       0.000000    18.000000     1.000000     1.000000     0.000000   \n",
       "25%       0.000000    41.000000     3.000000     2.000000     1.000000   \n",
       "50%       0.000000    52.000000     3.000000     3.000000     1.000000   \n",
       "75%       0.000000    60.000000     4.000000     4.000000     1.000000   \n",
       "max       1.000000    89.000000     5.000000     7.000000     1.000000   \n",
       "\n",
       "       intercept  \n",
       "count     1872.0  \n",
       "mean         1.0  \n",
       "std          0.0  \n",
       "min          1.0  \n",
       "25%          1.0  \n",
       "50%          1.0  \n",
       "75%          1.0  \n",
       "max          1.0  "
      ]
     },
     "execution_count": 36,
     "metadata": {},
     "output_type": "execute_result"
    },
    {
     "name": "stdout",
     "output_type": "stream",
     "text": [
      "<class 'pandas.core.frame.DataFrame'>\n",
      "Int64Index: 1872 entries, 0 to 2172\n",
      "Data columns (total 6 columns):\n",
      "MPay         1872 non-null float64\n",
      "age          1872 non-null float64\n",
      "EdLevel      1872 non-null int64\n",
      "IncLevel     1872 non-null float64\n",
      "white        1872 non-null int64\n",
      "intercept    1872 non-null float64\n",
      "dtypes: float64(4), int64(2)\n",
      "memory usage: 102.4 KB\n"
     ]
    }
   ],
   "source": [
    "# Subset coded variables without CPay and MBank included\n",
    "coded_variables2 = ['MPay','age','EdLevel',\n",
    "                    'IncLevel','white']\n",
    "\n",
    "df2 = SCPC[coded_variables2]\n",
    "df2['intercept']=1.0\n",
    "df2.head()\n",
    "df2.describe()\n",
    "df2.info()"
   ]
  },
  {
   "cell_type": "code",
   "execution_count": 37,
   "metadata": {
    "scrolled": true
   },
   "outputs": [
    {
     "data": {
      "image/png": "[encoded data removed]",
      "text/plain": [
       "<matplotlib.figure.Figure at 0x1c09c61160>"
      ]
     },
     "metadata": {},
     "output_type": "display_data"
    }
   ],
   "source": [
    "df1.hist()\n",
    "plt.tight_layout();"
   ]
  },
  {
   "cell_type": "code",
   "execution_count": 38,
   "metadata": {
    "scrolled": true
   },
   "outputs": [
    {
     "data": {
      "image/png": "[encoded data removed]",
      "text/plain": [
       "<matplotlib.figure.Figure at 0x1c09b2f5c0>"
      ]
     },
     "metadata": {},
     "output_type": "display_data"
    }
   ],
   "source": [
    "sns.distplot(SCPC['age'],bins=20);"
   ]
  },
  {
   "cell_type": "code",
   "execution_count": 39,
   "metadata": {
    "scrolled": true
   },
   "outputs": [
    {
     "data": {
      "image/png": "[encoded data removed]",
      "text/plain": [
       "<matplotlib.figure.Figure at 0x1c09d76d68>"
      ]
     },
     "metadata": {},
     "output_type": "display_data"
    }
   ],
   "source": [
    "sns.countplot(x=SCPC['AgeLevel'],hue=SCPC['MPay']);"
   ]
  },
  {
   "cell_type": "markdown",
   "metadata": {},
   "source": [
    "<a id=\"logit\"></a>\n",
    "# Perform Logistic Regression"
   ]
  },
  {
   "cell_type": "code",
   "execution_count": 40,
   "metadata": {},
   "outputs": [
    {
     "data": {
      "text/plain": [
       "Index(['CPay', 'MBank', 'age', 'EdLevel', 'IncLevel', 'white', 'intercept'], dtype='object')"
      ]
     },
     "execution_count": 40,
     "metadata": {},
     "output_type": "execute_result"
    }
   ],
   "source": [
    "train_cols1 = df1.columns[1:]\n",
    "train_cols1"
   ]
  },
  {
   "cell_type": "code",
   "execution_count": 41,
   "metadata": {},
   "outputs": [
    {
     "data": {
      "text/plain": [
       "Index(['age', 'EdLevel', 'IncLevel', 'white', 'intercept'], dtype='object')"
      ]
     },
     "execution_count": 41,
     "metadata": {},
     "output_type": "execute_result"
    }
   ],
   "source": [
    "train_cols2 = df2.columns[1:]\n",
    "train_cols2"
   ]
  },
  {
   "cell_type": "code",
   "execution_count": 42,
   "metadata": {
    "collapsed": true
   },
   "outputs": [],
   "source": [
    "logit1 = sm.Logit(df1['MPay'],df1[train_cols1])"
   ]
  },
  {
   "cell_type": "code",
   "execution_count": 43,
   "metadata": {},
   "outputs": [
    {
     "name": "stdout",
     "output_type": "stream",
     "text": [
      "Optimization terminated successfully.\n",
      "         Current function value: 0.082429\n",
      "         Iterations 9\n"
     ]
    }
   ],
   "source": [
    "result1 = logit1.fit()"
   ]
  },
  {
   "cell_type": "code",
   "execution_count": 44,
   "metadata": {},
   "outputs": [
    {
     "data": {
      "text/html": [
       "<table class=\"simpletable\">\n",
       "<caption>Logit Regression Results</caption>\n",
       "<tr>\n",
       "  <th>Dep. Variable:</th>       <td>MPay</td>       <th>  No. Observations:  </th>  <td>  1872</td>  \n",
       "</tr>\n",
       "<tr>\n",
       "  <th>Model:</th>               <td>Logit</td>      <th>  Df Residuals:      </th>  <td>  1865</td>  \n",
       "</tr>\n",
       "<tr>\n",
       "  <th>Method:</th>               <td>MLE</td>       <th>  Df Model:          </th>  <td>     6</td>  \n",
       "</tr>\n",
       "<tr>\n",
       "  <th>Date:</th>          <td>Mon, 30 Oct 2017</td> <th>  Pseudo R-squ.:     </th>  <td>0.2022</td>  \n",
       "</tr>\n",
       "<tr>\n",
       "  <th>Time:</th>              <td>21:14:47</td>     <th>  Log-Likelihood:    </th> <td> -154.31</td> \n",
       "</tr>\n",
       "<tr>\n",
       "  <th>converged:</th>           <td>True</td>       <th>  LL-Null:           </th> <td> -193.40</td> \n",
       "</tr>\n",
       "<tr>\n",
       "  <th> </th>                      <td> </td>        <th>  LLR p-value:       </th> <td>8.423e-15</td>\n",
       "</tr>\n",
       "</table>\n",
       "<table class=\"simpletable\">\n",
       "<tr>\n",
       "      <td></td>         <th>coef</th>     <th>std err</th>      <th>z</th>      <th>P>|z|</th>  <th>[0.025</th>    <th>0.975]</th>  \n",
       "</tr>\n",
       "<tr>\n",
       "  <th>CPay</th>      <td>    1.7159</td> <td>    0.358</td> <td>    4.791</td> <td> 0.000</td> <td>    1.014</td> <td>    2.418</td>\n",
       "</tr>\n",
       "<tr>\n",
       "  <th>MBank</th>     <td>    1.7573</td> <td>    0.362</td> <td>    4.852</td> <td> 0.000</td> <td>    1.047</td> <td>    2.467</td>\n",
       "</tr>\n",
       "<tr>\n",
       "  <th>age</th>       <td>   -0.0249</td> <td>    0.013</td> <td>   -1.957</td> <td> 0.050</td> <td>   -0.050</td> <td> 3.51e-05</td>\n",
       "</tr>\n",
       "<tr>\n",
       "  <th>EdLevel</th>   <td>   -0.3160</td> <td>    0.191</td> <td>   -1.650</td> <td> 0.099</td> <td>   -0.691</td> <td>    0.059</td>\n",
       "</tr>\n",
       "<tr>\n",
       "  <th>IncLevel</th>  <td>   -0.0306</td> <td>    0.117</td> <td>   -0.262</td> <td> 0.794</td> <td>   -0.260</td> <td>    0.199</td>\n",
       "</tr>\n",
       "<tr>\n",
       "  <th>white</th>     <td>   -0.4170</td> <td>    0.405</td> <td>   -1.028</td> <td> 0.304</td> <td>   -1.212</td> <td>    0.378</td>\n",
       "</tr>\n",
       "<tr>\n",
       "  <th>intercept</th> <td>   -2.3350</td> <td>    0.853</td> <td>   -2.737</td> <td> 0.006</td> <td>   -4.007</td> <td>   -0.663</td>\n",
       "</tr>\n",
       "</table>"
      ],
      "text/plain": [
       "<class 'statsmodels.iolib.summary.Summary'>\n",
       "\"\"\"\n",
       "                           Logit Regression Results                           \n",
       "==============================================================================\n",
       "Dep. Variable:                   MPay   No. Observations:                 1872\n",
       "Model:                          Logit   Df Residuals:                     1865\n",
       "Method:                           MLE   Df Model:                            6\n",
       "Date:                Mon, 30 Oct 2017   Pseudo R-squ.:                  0.2022\n",
       "Time:                        21:14:47   Log-Likelihood:                -154.31\n",
       "converged:                       True   LL-Null:                       -193.40\n",
       "                                        LLR p-value:                 8.423e-15\n",
       "==============================================================================\n",
       "                 coef    std err          z      P>|z|      [0.025      0.975]\n",
       "------------------------------------------------------------------------------\n",
       "CPay           1.7159      0.358      4.791      0.000       1.014       2.418\n",
       "MBank          1.7573      0.362      4.852      0.000       1.047       2.467\n",
       "age           -0.0249      0.013     -1.957      0.050      -0.050    3.51e-05\n",
       "EdLevel       -0.3160      0.191     -1.650      0.099      -0.691       0.059\n",
       "IncLevel      -0.0306      0.117     -0.262      0.794      -0.260       0.199\n",
       "white         -0.4170      0.405     -1.028      0.304      -1.212       0.378\n",
       "intercept     -2.3350      0.853     -2.737      0.006      -4.007      -0.663\n",
       "==============================================================================\n",
       "\"\"\""
      ]
     },
     "execution_count": 44,
     "metadata": {},
     "output_type": "execute_result"
    }
   ],
   "source": [
    "result1.summary()"
   ]
  },
  {
   "cell_type": "code",
   "execution_count": 45,
   "metadata": {},
   "outputs": [
    {
     "data": {
      "text/html": [
       "<div>\n",
       "<style>\n",
       "    .dataframe thead tr:only-child th {\n",
       "        text-align: right;\n",
       "    }\n",
       "\n",
       "    .dataframe thead th {\n",
       "        text-align: left;\n",
       "    }\n",
       "\n",
       "    .dataframe tbody tr th {\n",
       "        vertical-align: top;\n",
       "    }\n",
       "</style>\n",
       "<table border=\"1\" class=\"dataframe\">\n",
       "  <thead>\n",
       "    <tr style=\"text-align: right;\">\n",
       "      <th></th>\n",
       "      <th>0</th>\n",
       "      <th>1</th>\n",
       "    </tr>\n",
       "  </thead>\n",
       "  <tbody>\n",
       "    <tr>\n",
       "      <th>CPay</th>\n",
       "      <td>1.014018</td>\n",
       "      <td>2.417835</td>\n",
       "    </tr>\n",
       "    <tr>\n",
       "      <th>MBank</th>\n",
       "      <td>1.047441</td>\n",
       "      <td>2.467204</td>\n",
       "    </tr>\n",
       "    <tr>\n",
       "      <th>age</th>\n",
       "      <td>-0.049821</td>\n",
       "      <td>0.000035</td>\n",
       "    </tr>\n",
       "    <tr>\n",
       "      <th>EdLevel</th>\n",
       "      <td>-0.691321</td>\n",
       "      <td>0.059299</td>\n",
       "    </tr>\n",
       "    <tr>\n",
       "      <th>IncLevel</th>\n",
       "      <td>-0.259736</td>\n",
       "      <td>0.198562</td>\n",
       "    </tr>\n",
       "    <tr>\n",
       "      <th>white</th>\n",
       "      <td>-1.211561</td>\n",
       "      <td>0.377656</td>\n",
       "    </tr>\n",
       "    <tr>\n",
       "      <th>intercept</th>\n",
       "      <td>-4.007125</td>\n",
       "      <td>-0.662915</td>\n",
       "    </tr>\n",
       "  </tbody>\n",
       "</table>\n",
       "</div>"
      ],
      "text/plain": [
       "                  0         1\n",
       "CPay       1.014018  2.417835\n",
       "MBank      1.047441  2.467204\n",
       "age       -0.049821  0.000035\n",
       "EdLevel   -0.691321  0.059299\n",
       "IncLevel  -0.259736  0.198562\n",
       "white     -1.211561  0.377656\n",
       "intercept -4.007125 -0.662915"
      ]
     },
     "execution_count": 45,
     "metadata": {},
     "output_type": "execute_result"
    }
   ],
   "source": [
    "result1.conf_int()"
   ]
  },
  {
   "cell_type": "code",
   "execution_count": 46,
   "metadata": {
    "collapsed": true
   },
   "outputs": [],
   "source": [
    "logit2 = sm.Logit(df2['MPay'],df2[train_cols2])"
   ]
  },
  {
   "cell_type": "code",
   "execution_count": 47,
   "metadata": {},
   "outputs": [
    {
     "name": "stdout",
     "output_type": "stream",
     "text": [
      "Optimization terminated successfully.\n",
      "         Current function value: 0.096257\n",
      "         Iterations 9\n"
     ]
    }
   ],
   "source": [
    "result2 = logit2.fit()"
   ]
  },
  {
   "cell_type": "code",
   "execution_count": 48,
   "metadata": {},
   "outputs": [
    {
     "data": {
      "text/html": [
       "<table class=\"simpletable\">\n",
       "<caption>Logit Regression Results</caption>\n",
       "<tr>\n",
       "  <th>Dep. Variable:</th>       <td>MPay</td>       <th>  No. Observations:  </th>  <td>  1872</td>  \n",
       "</tr>\n",
       "<tr>\n",
       "  <th>Model:</th>               <td>Logit</td>      <th>  Df Residuals:      </th>  <td>  1867</td>  \n",
       "</tr>\n",
       "<tr>\n",
       "  <th>Method:</th>               <td>MLE</td>       <th>  Df Model:          </th>  <td>     4</td>  \n",
       "</tr>\n",
       "<tr>\n",
       "  <th>Date:</th>          <td>Mon, 30 Oct 2017</td> <th>  Pseudo R-squ.:     </th>  <td>0.06832</td> \n",
       "</tr>\n",
       "<tr>\n",
       "  <th>Time:</th>              <td>21:14:51</td>     <th>  Log-Likelihood:    </th> <td> -180.19</td> \n",
       "</tr>\n",
       "<tr>\n",
       "  <th>converged:</th>           <td>True</td>       <th>  LL-Null:           </th> <td> -193.40</td> \n",
       "</tr>\n",
       "<tr>\n",
       "  <th> </th>                      <td> </td>        <th>  LLR p-value:       </th> <td>2.598e-05</td>\n",
       "</tr>\n",
       "</table>\n",
       "<table class=\"simpletable\">\n",
       "<tr>\n",
       "      <td></td>         <th>coef</th>     <th>std err</th>      <th>z</th>      <th>P>|z|</th>  <th>[0.025</th>    <th>0.975]</th>  \n",
       "</tr>\n",
       "<tr>\n",
       "  <th>age</th>       <td>   -0.0454</td> <td>    0.012</td> <td>   -3.744</td> <td> 0.000</td> <td>   -0.069</td> <td>   -0.022</td>\n",
       "</tr>\n",
       "<tr>\n",
       "  <th>EdLevel</th>   <td>   -0.3068</td> <td>    0.178</td> <td>   -1.728</td> <td> 0.084</td> <td>   -0.655</td> <td>    0.041</td>\n",
       "</tr>\n",
       "<tr>\n",
       "  <th>IncLevel</th>  <td>    0.0794</td> <td>    0.111</td> <td>    0.713</td> <td> 0.476</td> <td>   -0.139</td> <td>    0.298</td>\n",
       "</tr>\n",
       "<tr>\n",
       "  <th>white</th>     <td>   -0.8245</td> <td>    0.378</td> <td>   -2.182</td> <td> 0.029</td> <td>   -1.565</td> <td>   -0.084</td>\n",
       "</tr>\n",
       "<tr>\n",
       "  <th>intercept</th> <td>   -0.2916</td> <td>    0.741</td> <td>   -0.394</td> <td> 0.694</td> <td>   -1.744</td> <td>    1.160</td>\n",
       "</tr>\n",
       "</table>"
      ],
      "text/plain": [
       "<class 'statsmodels.iolib.summary.Summary'>\n",
       "\"\"\"\n",
       "                           Logit Regression Results                           \n",
       "==============================================================================\n",
       "Dep. Variable:                   MPay   No. Observations:                 1872\n",
       "Model:                          Logit   Df Residuals:                     1867\n",
       "Method:                           MLE   Df Model:                            4\n",
       "Date:                Mon, 30 Oct 2017   Pseudo R-squ.:                 0.06832\n",
       "Time:                        21:14:51   Log-Likelihood:                -180.19\n",
       "converged:                       True   LL-Null:                       -193.40\n",
       "                                        LLR p-value:                 2.598e-05\n",
       "==============================================================================\n",
       "                 coef    std err          z      P>|z|      [0.025      0.975]\n",
       "------------------------------------------------------------------------------\n",
       "age           -0.0454      0.012     -3.744      0.000      -0.069      -0.022\n",
       "EdLevel       -0.3068      0.178     -1.728      0.084      -0.655       0.041\n",
       "IncLevel       0.0794      0.111      0.713      0.476      -0.139       0.298\n",
       "white         -0.8245      0.378     -2.182      0.029      -1.565      -0.084\n",
       "intercept     -0.2916      0.741     -0.394      0.694      -1.744       1.160\n",
       "==============================================================================\n",
       "\"\"\""
      ]
     },
     "execution_count": 48,
     "metadata": {},
     "output_type": "execute_result"
    }
   ],
   "source": [
    "result2.summary()"
   ]
  }
 ],
 "metadata": {
  "kernelspec": {
   "display_name": "Python 3",
   "language": "python",
   "name": "python3"
  },
  "language_info": {
   "codemirror_mode": {
    "name": "ipython",
    "version": 3
   },
   "file_extension": ".py",
   "mimetype": "text/x-python",
   "name": "python",
   "nbconvert_exporter": "python",
   "pygments_lexer": "ipython3",
   "version": "3.7.5"
  }
 },
 "nbformat": 4,
 "nbformat_minor": 2
}
